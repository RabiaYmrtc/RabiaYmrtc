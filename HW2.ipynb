{
  "nbformat": 4,
  "nbformat_minor": 0,
  "metadata": {
    "colab": {
      "name": "HW2",
      "provenance": [],
      "authorship_tag": "ABX9TyPn/l1YqB1NS+e1TjhX7I9C",
      "include_colab_link": true
    },
    "kernelspec": {
      "name": "python3",
      "display_name": "Python 3"
    }
  },
  "cells": [
    {
      "cell_type": "markdown",
      "metadata": {
        "id": "view-in-github",
        "colab_type": "text"
      },
      "source": [
        "<a href=\"https://colab.research.google.com/github/RabiaYmrtc/RabiaYmrtc/blob/GlobalAIHubPythonCourse/HW2.ipynb\" target=\"_parent\"><img src=\"https://colab.research.google.com/assets/colab-badge.svg\" alt=\"Open In Colab\"/></a>"
      ]
    },
    {
      "cell_type": "code",
      "metadata": {
        "colab": {
          "base_uri": "https://localhost:8080/"
        },
        "id": "4uPvKVd7lfJb",
        "outputId": "7c346a64-14f9-4784-c58f-b6e50332e24a"
      },
      "source": [
        "Name_of_Students=['Rabia Yumurtaci', 'Veysel Beyter', 'Medine Can', 'Kerim Can', 'YEmre Yumurtaci']\r\n",
        "Grades=[[81,65,85],[100,100,100],[90,80,70],[70,80,90],[55,18,61]]\r\n",
        "Scores = [sum(i)/3 for i in Grades]\r\n",
        "\r\n",
        "Grades_of_Students=(list(zip(Name_of_Students,Scores)))\r\n",
        "Grades_of_Students.sort()\r\n",
        "Grades_of_Students\r\n",
        "\r\n",
        "\r\n"
      ],
      "execution_count": 36,
      "outputs": [
        {
          "output_type": "execute_result",
          "data": {
            "text/plain": [
              "[('Kerim Can', 80.0),\n",
              " ('Medine Can', 80.0),\n",
              " ('Rabia Yumurtaci', 77.0),\n",
              " ('Veysel Beyter', 100.0),\n",
              " ('YEmre Yumurtaci', 44.666666666666664)]"
            ]
          },
          "metadata": {
            "tags": []
          },
          "execution_count": 36
        }
      ]
    }
  ]
}