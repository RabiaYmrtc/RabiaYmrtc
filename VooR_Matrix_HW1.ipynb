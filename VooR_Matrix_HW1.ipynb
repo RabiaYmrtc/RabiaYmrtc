{
  "nbformat": 4,
  "nbformat_minor": 0,
  "metadata": {
    "colab": {
      "name": "VooR_Matrix_HW1.ipynb",
      "provenance": [],
      "collapsed_sections": [],
      "authorship_tag": "ABX9TyNPZqhTkk4uQfNM/mH+8fvH",
      "include_colab_link": true
    },
    "kernelspec": {
      "name": "python3",
      "display_name": "Python 3"
    }
  },
  "cells": [
    {
      "cell_type": "markdown",
      "metadata": {
        "id": "view-in-github",
        "colab_type": "text"
      },
      "source": [
        "<a href=\"https://colab.research.google.com/github/RabiaYmrtc/RabiaYmrtc/blob/GlobalAIHubPythonCourse/VooR_Matrix_HW1.ipynb\" target=\"_parent\"><img src=\"https://colab.research.google.com/assets/colab-badge.svg\" alt=\"Open In Colab\"/></a>"
      ]
    },
    {
      "cell_type": "code",
      "metadata": {
        "colab": {
          "base_uri": "https://localhost:8080/"
        },
        "id": "iWWxucRGIOim",
        "outputId": "01a4f724-8d52-485f-d565-5b23d78ed5db"
      },
      "source": [
        "VooR_matrix=[['28','18','29'],['17','65','21'],['61','55','76']]\r\n",
        "for row in VooR_matrix:\r\n",
        "    print(' '.join(row))"
      ],
      "execution_count": 11,
      "outputs": [
        {
          "output_type": "stream",
          "text": [
            "28 18 29\n",
            "17 65 21\n",
            "61 55 76\n"
          ],
          "name": "stdout"
        }
      ]
    }
  ]
}